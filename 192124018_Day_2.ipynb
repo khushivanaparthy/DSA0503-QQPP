{
  "nbformat": 4,
  "nbformat_minor": 0,
  "metadata": {
    "colab": {
      "provenance": []
    },
    "kernelspec": {
      "name": "python3",
      "display_name": "Python 3"
    },
    "language_info": {
      "name": "python"
    }
  },
  "cells": [
    {
      "cell_type": "code",
      "execution_count": 1,
      "metadata": {
        "id": "uvH6ND6J87Jm",
        "colab": {
          "base_uri": "https://localhost:8080/"
        },
        "outputId": "0764ced0-f6b4-4b80-829c-09cb49e9ec92"
      },
      "outputs": [
        {
          "output_type": "stream",
          "name": "stdout",
          "text": [
            "Mounted at /content/drive\n"
          ]
        }
      ],
      "source": [
        "from google.colab import drive\n",
        "drive.mount('/content/drive')"
      ]
    },
    {
      "cell_type": "markdown",
      "source": [
        "#**9.\tWrite a Pandas program to create a Pivot table and find the total sale amount region wise, manager wise, sales man wise.**"
      ],
      "metadata": {
        "id": "RW20Vwjv-h6N"
      }
    },
    {
      "cell_type": "code",
      "source": [
        "import pandas as pd\n",
        "\n",
        "df = pd.read_csv('/content/drive/MyDrive/Data-sets-qqpp/Sales_data.csv')\n",
        "\n",
        "pivot_table = df.pivot_table(index=['Region', 'Manager', 'SalesMan'], values='Sale_amt', aggfunc='sum')\n",
        "\n",
        "print(pivot_table)\n"
      ],
      "metadata": {
        "id": "_-WCiRJI9F1N",
        "colab": {
          "base_uri": "https://localhost:8080/"
        },
        "outputId": "bd79d28f-09b4-4e5e-af16-7a45cafd45b4"
      },
      "execution_count": 2,
      "outputs": [
        {
          "output_type": "stream",
          "name": "stdout",
          "text": [
            "                           Sale_amt\n",
            "Region  Manager SalesMan           \n",
            "Central Hermann Luis       150948.0\n",
            "                Shelli      25000.0\n",
            "                Sigal      107820.0\n",
            "        Martha  Alexander   57266.0\n",
            "                Steven      89850.0\n",
            "        Timothy David        6075.0\n",
            "East    Douglas John          250.0\n",
            "                Karen       40500.0\n",
            "        Hermann Sigal       14000.0\n",
            "        Martha  Alexander  173810.0\n",
            "                Diana       14500.0\n",
            "West    Douglas Michael     38336.0\n",
            "        Timothy Stephen     67088.0\n"
          ]
        }
      ]
    },
    {
      "cell_type": "markdown",
      "source": [
        "#**10.Create a dataframe of ten rows, four columns with random values. Write a Pandas program to highlight the negative numbers red and positive numbers black.**"
      ],
      "metadata": {
        "id": "lx4oEi6q-6mw"
      }
    },
    {
      "cell_type": "code",
      "source": [
        "import pandas as pd\n",
        "import numpy as np\n",
        "\n",
        "data = np.random.randn(10, 4)\n",
        "df = pd.DataFrame(data, columns=['A', 'B', 'C', 'D'])\n",
        "\n",
        "def color_negative_red(val):\n",
        "    color = 'red' if val < 0 else 'black'\n",
        "    return f'color: {color}'\n",
        "\n",
        "styled_df = df.style.applymap(color_negative_red)\n",
        "\n",
        "styled_df\n"
      ],
      "metadata": {
        "id": "k--jkICs9Hlj",
        "colab": {
          "base_uri": "https://localhost:8080/",
          "height": 363
        },
        "outputId": "5e09770a-66fa-4c9a-ac87-9803fa3be103"
      },
      "execution_count": 3,
      "outputs": [
        {
          "output_type": "execute_result",
          "data": {
            "text/plain": [
              "<pandas.io.formats.style.Styler at 0x7eb931b04df0>"
            ],
            "text/html": [
              "<style type=\"text/css\">\n",
              "#T_74013_row0_col0, #T_74013_row1_col0, #T_74013_row1_col2, #T_74013_row2_col2, #T_74013_row2_col3, #T_74013_row3_col1, #T_74013_row3_col3, #T_74013_row4_col2, #T_74013_row5_col0, #T_74013_row5_col1, #T_74013_row6_col3, #T_74013_row7_col0, #T_74013_row7_col1, #T_74013_row7_col2, #T_74013_row7_col3, #T_74013_row8_col0, #T_74013_row8_col2, #T_74013_row9_col0, #T_74013_row9_col2, #T_74013_row9_col3 {\n",
              "  color: black;\n",
              "}\n",
              "#T_74013_row0_col1, #T_74013_row0_col2, #T_74013_row0_col3, #T_74013_row1_col1, #T_74013_row1_col3, #T_74013_row2_col0, #T_74013_row2_col1, #T_74013_row3_col0, #T_74013_row3_col2, #T_74013_row4_col0, #T_74013_row4_col1, #T_74013_row4_col3, #T_74013_row5_col2, #T_74013_row5_col3, #T_74013_row6_col0, #T_74013_row6_col1, #T_74013_row6_col2, #T_74013_row8_col1, #T_74013_row8_col3, #T_74013_row9_col1 {\n",
              "  color: red;\n",
              "}\n",
              "</style>\n",
              "<table id=\"T_74013\" class=\"dataframe\">\n",
              "  <thead>\n",
              "    <tr>\n",
              "      <th class=\"blank level0\" >&nbsp;</th>\n",
              "      <th id=\"T_74013_level0_col0\" class=\"col_heading level0 col0\" >A</th>\n",
              "      <th id=\"T_74013_level0_col1\" class=\"col_heading level0 col1\" >B</th>\n",
              "      <th id=\"T_74013_level0_col2\" class=\"col_heading level0 col2\" >C</th>\n",
              "      <th id=\"T_74013_level0_col3\" class=\"col_heading level0 col3\" >D</th>\n",
              "    </tr>\n",
              "  </thead>\n",
              "  <tbody>\n",
              "    <tr>\n",
              "      <th id=\"T_74013_level0_row0\" class=\"row_heading level0 row0\" >0</th>\n",
              "      <td id=\"T_74013_row0_col0\" class=\"data row0 col0\" >1.341122</td>\n",
              "      <td id=\"T_74013_row0_col1\" class=\"data row0 col1\" >-0.729479</td>\n",
              "      <td id=\"T_74013_row0_col2\" class=\"data row0 col2\" >-1.200324</td>\n",
              "      <td id=\"T_74013_row0_col3\" class=\"data row0 col3\" >-0.483839</td>\n",
              "    </tr>\n",
              "    <tr>\n",
              "      <th id=\"T_74013_level0_row1\" class=\"row_heading level0 row1\" >1</th>\n",
              "      <td id=\"T_74013_row1_col0\" class=\"data row1 col0\" >1.310807</td>\n",
              "      <td id=\"T_74013_row1_col1\" class=\"data row1 col1\" >-1.454193</td>\n",
              "      <td id=\"T_74013_row1_col2\" class=\"data row1 col2\" >1.333345</td>\n",
              "      <td id=\"T_74013_row1_col3\" class=\"data row1 col3\" >-0.897751</td>\n",
              "    </tr>\n",
              "    <tr>\n",
              "      <th id=\"T_74013_level0_row2\" class=\"row_heading level0 row2\" >2</th>\n",
              "      <td id=\"T_74013_row2_col0\" class=\"data row2 col0\" >-0.427168</td>\n",
              "      <td id=\"T_74013_row2_col1\" class=\"data row2 col1\" >-0.829398</td>\n",
              "      <td id=\"T_74013_row2_col2\" class=\"data row2 col2\" >0.224492</td>\n",
              "      <td id=\"T_74013_row2_col3\" class=\"data row2 col3\" >0.275818</td>\n",
              "    </tr>\n",
              "    <tr>\n",
              "      <th id=\"T_74013_level0_row3\" class=\"row_heading level0 row3\" >3</th>\n",
              "      <td id=\"T_74013_row3_col0\" class=\"data row3 col0\" >-0.802902</td>\n",
              "      <td id=\"T_74013_row3_col1\" class=\"data row3 col1\" >0.235680</td>\n",
              "      <td id=\"T_74013_row3_col2\" class=\"data row3 col2\" >-0.728709</td>\n",
              "      <td id=\"T_74013_row3_col3\" class=\"data row3 col3\" >0.913094</td>\n",
              "    </tr>\n",
              "    <tr>\n",
              "      <th id=\"T_74013_level0_row4\" class=\"row_heading level0 row4\" >4</th>\n",
              "      <td id=\"T_74013_row4_col0\" class=\"data row4 col0\" >-0.284202</td>\n",
              "      <td id=\"T_74013_row4_col1\" class=\"data row4 col1\" >-0.343070</td>\n",
              "      <td id=\"T_74013_row4_col2\" class=\"data row4 col2\" >0.405101</td>\n",
              "      <td id=\"T_74013_row4_col3\" class=\"data row4 col3\" >-1.762968</td>\n",
              "    </tr>\n",
              "    <tr>\n",
              "      <th id=\"T_74013_level0_row5\" class=\"row_heading level0 row5\" >5</th>\n",
              "      <td id=\"T_74013_row5_col0\" class=\"data row5 col0\" >0.048341</td>\n",
              "      <td id=\"T_74013_row5_col1\" class=\"data row5 col1\" >0.436980</td>\n",
              "      <td id=\"T_74013_row5_col2\" class=\"data row5 col2\" >-1.339488</td>\n",
              "      <td id=\"T_74013_row5_col3\" class=\"data row5 col3\" >-0.901862</td>\n",
              "    </tr>\n",
              "    <tr>\n",
              "      <th id=\"T_74013_level0_row6\" class=\"row_heading level0 row6\" >6</th>\n",
              "      <td id=\"T_74013_row6_col0\" class=\"data row6 col0\" >-1.641388</td>\n",
              "      <td id=\"T_74013_row6_col1\" class=\"data row6 col1\" >-0.266044</td>\n",
              "      <td id=\"T_74013_row6_col2\" class=\"data row6 col2\" >-1.254597</td>\n",
              "      <td id=\"T_74013_row6_col3\" class=\"data row6 col3\" >0.185725</td>\n",
              "    </tr>\n",
              "    <tr>\n",
              "      <th id=\"T_74013_level0_row7\" class=\"row_heading level0 row7\" >7</th>\n",
              "      <td id=\"T_74013_row7_col0\" class=\"data row7 col0\" >1.494830</td>\n",
              "      <td id=\"T_74013_row7_col1\" class=\"data row7 col1\" >1.398762</td>\n",
              "      <td id=\"T_74013_row7_col2\" class=\"data row7 col2\" >1.625622</td>\n",
              "      <td id=\"T_74013_row7_col3\" class=\"data row7 col3\" >1.524552</td>\n",
              "    </tr>\n",
              "    <tr>\n",
              "      <th id=\"T_74013_level0_row8\" class=\"row_heading level0 row8\" >8</th>\n",
              "      <td id=\"T_74013_row8_col0\" class=\"data row8 col0\" >0.010157</td>\n",
              "      <td id=\"T_74013_row8_col1\" class=\"data row8 col1\" >-1.029188</td>\n",
              "      <td id=\"T_74013_row8_col2\" class=\"data row8 col2\" >0.906426</td>\n",
              "      <td id=\"T_74013_row8_col3\" class=\"data row8 col3\" >-2.422333</td>\n",
              "    </tr>\n",
              "    <tr>\n",
              "      <th id=\"T_74013_level0_row9\" class=\"row_heading level0 row9\" >9</th>\n",
              "      <td id=\"T_74013_row9_col0\" class=\"data row9 col0\" >1.012940</td>\n",
              "      <td id=\"T_74013_row9_col1\" class=\"data row9 col1\" >-1.517176</td>\n",
              "      <td id=\"T_74013_row9_col2\" class=\"data row9 col2\" >1.334273</td>\n",
              "      <td id=\"T_74013_row9_col3\" class=\"data row9 col3\" >1.325346</td>\n",
              "    </tr>\n",
              "  </tbody>\n",
              "</table>\n"
            ]
          },
          "metadata": {},
          "execution_count": 3
        }
      ]
    },
    {
      "cell_type": "markdown",
      "source": [
        "#**11.Create a dataframe of ten rows, four columns with random values. Convert some values to nan values. Write a Pandas program which will highlight the nan values.**"
      ],
      "metadata": {
        "id": "qoXVM_-V_Prc"
      }
    },
    {
      "cell_type": "code",
      "source": [
        "import pandas as pd\n",
        "import numpy as np\n",
        "\n",
        "data = np.random.randn(10, 4)\n",
        "df = pd.DataFrame(data, columns=['A', 'B', 'C', 'D'])\n",
        "\n",
        "df.iloc[2, 1] = np.nan\n",
        "df.iloc[5, 3] = np.nan\n",
        "df.iloc[7, 0] = np.nan\n",
        "\n",
        "def highlight_nan(val):\n",
        "    return f'background-color: yellow' if pd.isna(val) else ''\n",
        "\n",
        "styled_df = df.style.applymap(highlight_nan)\n",
        "\n",
        "styled_df\n"
      ],
      "metadata": {
        "id": "bEYFmqZj9HsB",
        "colab": {
          "base_uri": "https://localhost:8080/",
          "height": 363
        },
        "outputId": "63431a85-2780-405c-902f-efbc6da8266c"
      },
      "execution_count": 4,
      "outputs": [
        {
          "output_type": "execute_result",
          "data": {
            "text/plain": [
              "<pandas.io.formats.style.Styler at 0x7eb932952950>"
            ],
            "text/html": [
              "<style type=\"text/css\">\n",
              "#T_722a0_row2_col1, #T_722a0_row5_col3, #T_722a0_row7_col0 {\n",
              "  background-color: yellow;\n",
              "}\n",
              "</style>\n",
              "<table id=\"T_722a0\" class=\"dataframe\">\n",
              "  <thead>\n",
              "    <tr>\n",
              "      <th class=\"blank level0\" >&nbsp;</th>\n",
              "      <th id=\"T_722a0_level0_col0\" class=\"col_heading level0 col0\" >A</th>\n",
              "      <th id=\"T_722a0_level0_col1\" class=\"col_heading level0 col1\" >B</th>\n",
              "      <th id=\"T_722a0_level0_col2\" class=\"col_heading level0 col2\" >C</th>\n",
              "      <th id=\"T_722a0_level0_col3\" class=\"col_heading level0 col3\" >D</th>\n",
              "    </tr>\n",
              "  </thead>\n",
              "  <tbody>\n",
              "    <tr>\n",
              "      <th id=\"T_722a0_level0_row0\" class=\"row_heading level0 row0\" >0</th>\n",
              "      <td id=\"T_722a0_row0_col0\" class=\"data row0 col0\" >-0.297075</td>\n",
              "      <td id=\"T_722a0_row0_col1\" class=\"data row0 col1\" >2.351320</td>\n",
              "      <td id=\"T_722a0_row0_col2\" class=\"data row0 col2\" >0.897425</td>\n",
              "      <td id=\"T_722a0_row0_col3\" class=\"data row0 col3\" >0.214339</td>\n",
              "    </tr>\n",
              "    <tr>\n",
              "      <th id=\"T_722a0_level0_row1\" class=\"row_heading level0 row1\" >1</th>\n",
              "      <td id=\"T_722a0_row1_col0\" class=\"data row1 col0\" >2.029941</td>\n",
              "      <td id=\"T_722a0_row1_col1\" class=\"data row1 col1\" >0.242299</td>\n",
              "      <td id=\"T_722a0_row1_col2\" class=\"data row1 col2\" >-0.207831</td>\n",
              "      <td id=\"T_722a0_row1_col3\" class=\"data row1 col3\" >-0.272182</td>\n",
              "    </tr>\n",
              "    <tr>\n",
              "      <th id=\"T_722a0_level0_row2\" class=\"row_heading level0 row2\" >2</th>\n",
              "      <td id=\"T_722a0_row2_col0\" class=\"data row2 col0\" >0.379595</td>\n",
              "      <td id=\"T_722a0_row2_col1\" class=\"data row2 col1\" >nan</td>\n",
              "      <td id=\"T_722a0_row2_col2\" class=\"data row2 col2\" >0.362268</td>\n",
              "      <td id=\"T_722a0_row2_col3\" class=\"data row2 col3\" >-0.954688</td>\n",
              "    </tr>\n",
              "    <tr>\n",
              "      <th id=\"T_722a0_level0_row3\" class=\"row_heading level0 row3\" >3</th>\n",
              "      <td id=\"T_722a0_row3_col0\" class=\"data row3 col0\" >-1.830150</td>\n",
              "      <td id=\"T_722a0_row3_col1\" class=\"data row3 col1\" >0.213000</td>\n",
              "      <td id=\"T_722a0_row3_col2\" class=\"data row3 col2\" >-0.960505</td>\n",
              "      <td id=\"T_722a0_row3_col3\" class=\"data row3 col3\" >0.002010</td>\n",
              "    </tr>\n",
              "    <tr>\n",
              "      <th id=\"T_722a0_level0_row4\" class=\"row_heading level0 row4\" >4</th>\n",
              "      <td id=\"T_722a0_row4_col0\" class=\"data row4 col0\" >0.112173</td>\n",
              "      <td id=\"T_722a0_row4_col1\" class=\"data row4 col1\" >-0.934207</td>\n",
              "      <td id=\"T_722a0_row4_col2\" class=\"data row4 col2\" >-0.443881</td>\n",
              "      <td id=\"T_722a0_row4_col3\" class=\"data row4 col3\" >-0.072269</td>\n",
              "    </tr>\n",
              "    <tr>\n",
              "      <th id=\"T_722a0_level0_row5\" class=\"row_heading level0 row5\" >5</th>\n",
              "      <td id=\"T_722a0_row5_col0\" class=\"data row5 col0\" >-0.646890</td>\n",
              "      <td id=\"T_722a0_row5_col1\" class=\"data row5 col1\" >0.369993</td>\n",
              "      <td id=\"T_722a0_row5_col2\" class=\"data row5 col2\" >0.554564</td>\n",
              "      <td id=\"T_722a0_row5_col3\" class=\"data row5 col3\" >nan</td>\n",
              "    </tr>\n",
              "    <tr>\n",
              "      <th id=\"T_722a0_level0_row6\" class=\"row_heading level0 row6\" >6</th>\n",
              "      <td id=\"T_722a0_row6_col0\" class=\"data row6 col0\" >1.169201</td>\n",
              "      <td id=\"T_722a0_row6_col1\" class=\"data row6 col1\" >0.209547</td>\n",
              "      <td id=\"T_722a0_row6_col2\" class=\"data row6 col2\" >-0.717651</td>\n",
              "      <td id=\"T_722a0_row6_col3\" class=\"data row6 col3\" >0.528880</td>\n",
              "    </tr>\n",
              "    <tr>\n",
              "      <th id=\"T_722a0_level0_row7\" class=\"row_heading level0 row7\" >7</th>\n",
              "      <td id=\"T_722a0_row7_col0\" class=\"data row7 col0\" >nan</td>\n",
              "      <td id=\"T_722a0_row7_col1\" class=\"data row7 col1\" >-0.048899</td>\n",
              "      <td id=\"T_722a0_row7_col2\" class=\"data row7 col2\" >-0.041872</td>\n",
              "      <td id=\"T_722a0_row7_col3\" class=\"data row7 col3\" >-1.989632</td>\n",
              "    </tr>\n",
              "    <tr>\n",
              "      <th id=\"T_722a0_level0_row8\" class=\"row_heading level0 row8\" >8</th>\n",
              "      <td id=\"T_722a0_row8_col0\" class=\"data row8 col0\" >1.941687</td>\n",
              "      <td id=\"T_722a0_row8_col1\" class=\"data row8 col1\" >-0.280538</td>\n",
              "      <td id=\"T_722a0_row8_col2\" class=\"data row8 col2\" >-0.922189</td>\n",
              "      <td id=\"T_722a0_row8_col3\" class=\"data row8 col3\" >-0.475528</td>\n",
              "    </tr>\n",
              "    <tr>\n",
              "      <th id=\"T_722a0_level0_row9\" class=\"row_heading level0 row9\" >9</th>\n",
              "      <td id=\"T_722a0_row9_col0\" class=\"data row9 col0\" >-0.118877</td>\n",
              "      <td id=\"T_722a0_row9_col1\" class=\"data row9 col1\" >-0.184879</td>\n",
              "      <td id=\"T_722a0_row9_col2\" class=\"data row9 col2\" >0.920079</td>\n",
              "      <td id=\"T_722a0_row9_col3\" class=\"data row9 col3\" >0.042484</td>\n",
              "    </tr>\n",
              "  </tbody>\n",
              "</table>\n"
            ]
          },
          "metadata": {},
          "execution_count": 4
        }
      ]
    },
    {
      "cell_type": "markdown",
      "source": [
        "#**12.Create a dataframe of ten rows, four columns with random values. Write a Pandas program to set dataframe background Color black and font color yellow.**"
      ],
      "metadata": {
        "id": "Wn0odnev_UdY"
      }
    },
    {
      "cell_type": "code",
      "source": [
        "import pandas as pd\n",
        "import numpy as np\n",
        "\n",
        "data = np.random.randn(10, 4)\n",
        "df = pd.DataFrame(data, columns=['A', 'B', 'C', 'D'])\n",
        "\n",
        "def set_styles(val):\n",
        "    return f'background-color: black; color: yellow;'\n",
        "\n",
        "styled_df = df.style.applymap(set_styles)\n",
        "\n",
        "styled_df\n"
      ],
      "metadata": {
        "id": "mvntgkIh9HuV",
        "colab": {
          "base_uri": "https://localhost:8080/",
          "height": 363
        },
        "outputId": "d1cc9db8-3013-4f46-8e91-5545ae7afe37"
      },
      "execution_count": 5,
      "outputs": [
        {
          "output_type": "execute_result",
          "data": {
            "text/plain": [
              "<pandas.io.formats.style.Styler at 0x7eb9031cabc0>"
            ],
            "text/html": [
              "<style type=\"text/css\">\n",
              "#T_4c23a_row0_col0, #T_4c23a_row0_col1, #T_4c23a_row0_col2, #T_4c23a_row0_col3, #T_4c23a_row1_col0, #T_4c23a_row1_col1, #T_4c23a_row1_col2, #T_4c23a_row1_col3, #T_4c23a_row2_col0, #T_4c23a_row2_col1, #T_4c23a_row2_col2, #T_4c23a_row2_col3, #T_4c23a_row3_col0, #T_4c23a_row3_col1, #T_4c23a_row3_col2, #T_4c23a_row3_col3, #T_4c23a_row4_col0, #T_4c23a_row4_col1, #T_4c23a_row4_col2, #T_4c23a_row4_col3, #T_4c23a_row5_col0, #T_4c23a_row5_col1, #T_4c23a_row5_col2, #T_4c23a_row5_col3, #T_4c23a_row6_col0, #T_4c23a_row6_col1, #T_4c23a_row6_col2, #T_4c23a_row6_col3, #T_4c23a_row7_col0, #T_4c23a_row7_col1, #T_4c23a_row7_col2, #T_4c23a_row7_col3, #T_4c23a_row8_col0, #T_4c23a_row8_col1, #T_4c23a_row8_col2, #T_4c23a_row8_col3, #T_4c23a_row9_col0, #T_4c23a_row9_col1, #T_4c23a_row9_col2, #T_4c23a_row9_col3 {\n",
              "  background-color: black;\n",
              "  color: yellow;\n",
              "}\n",
              "</style>\n",
              "<table id=\"T_4c23a\" class=\"dataframe\">\n",
              "  <thead>\n",
              "    <tr>\n",
              "      <th class=\"blank level0\" >&nbsp;</th>\n",
              "      <th id=\"T_4c23a_level0_col0\" class=\"col_heading level0 col0\" >A</th>\n",
              "      <th id=\"T_4c23a_level0_col1\" class=\"col_heading level0 col1\" >B</th>\n",
              "      <th id=\"T_4c23a_level0_col2\" class=\"col_heading level0 col2\" >C</th>\n",
              "      <th id=\"T_4c23a_level0_col3\" class=\"col_heading level0 col3\" >D</th>\n",
              "    </tr>\n",
              "  </thead>\n",
              "  <tbody>\n",
              "    <tr>\n",
              "      <th id=\"T_4c23a_level0_row0\" class=\"row_heading level0 row0\" >0</th>\n",
              "      <td id=\"T_4c23a_row0_col0\" class=\"data row0 col0\" >-0.082313</td>\n",
              "      <td id=\"T_4c23a_row0_col1\" class=\"data row0 col1\" >-0.079006</td>\n",
              "      <td id=\"T_4c23a_row0_col2\" class=\"data row0 col2\" >0.964517</td>\n",
              "      <td id=\"T_4c23a_row0_col3\" class=\"data row0 col3\" >0.464696</td>\n",
              "    </tr>\n",
              "    <tr>\n",
              "      <th id=\"T_4c23a_level0_row1\" class=\"row_heading level0 row1\" >1</th>\n",
              "      <td id=\"T_4c23a_row1_col0\" class=\"data row1 col0\" >1.107735</td>\n",
              "      <td id=\"T_4c23a_row1_col1\" class=\"data row1 col1\" >0.522104</td>\n",
              "      <td id=\"T_4c23a_row1_col2\" class=\"data row1 col2\" >-1.684133</td>\n",
              "      <td id=\"T_4c23a_row1_col3\" class=\"data row1 col3\" >-1.168551</td>\n",
              "    </tr>\n",
              "    <tr>\n",
              "      <th id=\"T_4c23a_level0_row2\" class=\"row_heading level0 row2\" >2</th>\n",
              "      <td id=\"T_4c23a_row2_col0\" class=\"data row2 col0\" >0.916643</td>\n",
              "      <td id=\"T_4c23a_row2_col1\" class=\"data row2 col1\" >0.649419</td>\n",
              "      <td id=\"T_4c23a_row2_col2\" class=\"data row2 col2\" >-0.298822</td>\n",
              "      <td id=\"T_4c23a_row2_col3\" class=\"data row2 col3\" >-0.486029</td>\n",
              "    </tr>\n",
              "    <tr>\n",
              "      <th id=\"T_4c23a_level0_row3\" class=\"row_heading level0 row3\" >3</th>\n",
              "      <td id=\"T_4c23a_row3_col0\" class=\"data row3 col0\" >-0.842591</td>\n",
              "      <td id=\"T_4c23a_row3_col1\" class=\"data row3 col1\" >-1.492332</td>\n",
              "      <td id=\"T_4c23a_row3_col2\" class=\"data row3 col2\" >1.119089</td>\n",
              "      <td id=\"T_4c23a_row3_col3\" class=\"data row3 col3\" >-0.349027</td>\n",
              "    </tr>\n",
              "    <tr>\n",
              "      <th id=\"T_4c23a_level0_row4\" class=\"row_heading level0 row4\" >4</th>\n",
              "      <td id=\"T_4c23a_row4_col0\" class=\"data row4 col0\" >-2.329638</td>\n",
              "      <td id=\"T_4c23a_row4_col1\" class=\"data row4 col1\" >-0.375275</td>\n",
              "      <td id=\"T_4c23a_row4_col2\" class=\"data row4 col2\" >-1.045034</td>\n",
              "      <td id=\"T_4c23a_row4_col3\" class=\"data row4 col3\" >-0.787665</td>\n",
              "    </tr>\n",
              "    <tr>\n",
              "      <th id=\"T_4c23a_level0_row5\" class=\"row_heading level0 row5\" >5</th>\n",
              "      <td id=\"T_4c23a_row5_col0\" class=\"data row5 col0\" >1.893604</td>\n",
              "      <td id=\"T_4c23a_row5_col1\" class=\"data row5 col1\" >-0.159326</td>\n",
              "      <td id=\"T_4c23a_row5_col2\" class=\"data row5 col2\" >0.998294</td>\n",
              "      <td id=\"T_4c23a_row5_col3\" class=\"data row5 col3\" >0.396832</td>\n",
              "    </tr>\n",
              "    <tr>\n",
              "      <th id=\"T_4c23a_level0_row6\" class=\"row_heading level0 row6\" >6</th>\n",
              "      <td id=\"T_4c23a_row6_col0\" class=\"data row6 col0\" >-0.117565</td>\n",
              "      <td id=\"T_4c23a_row6_col1\" class=\"data row6 col1\" >-1.169888</td>\n",
              "      <td id=\"T_4c23a_row6_col2\" class=\"data row6 col2\" >1.403387</td>\n",
              "      <td id=\"T_4c23a_row6_col3\" class=\"data row6 col3\" >1.110475</td>\n",
              "    </tr>\n",
              "    <tr>\n",
              "      <th id=\"T_4c23a_level0_row7\" class=\"row_heading level0 row7\" >7</th>\n",
              "      <td id=\"T_4c23a_row7_col0\" class=\"data row7 col0\" >-0.494461</td>\n",
              "      <td id=\"T_4c23a_row7_col1\" class=\"data row7 col1\" >-1.811311</td>\n",
              "      <td id=\"T_4c23a_row7_col2\" class=\"data row7 col2\" >0.333665</td>\n",
              "      <td id=\"T_4c23a_row7_col3\" class=\"data row7 col3\" >0.826031</td>\n",
              "    </tr>\n",
              "    <tr>\n",
              "      <th id=\"T_4c23a_level0_row8\" class=\"row_heading level0 row8\" >8</th>\n",
              "      <td id=\"T_4c23a_row8_col0\" class=\"data row8 col0\" >1.262744</td>\n",
              "      <td id=\"T_4c23a_row8_col1\" class=\"data row8 col1\" >-0.614666</td>\n",
              "      <td id=\"T_4c23a_row8_col2\" class=\"data row8 col2\" >1.367125</td>\n",
              "      <td id=\"T_4c23a_row8_col3\" class=\"data row8 col3\" >-0.627636</td>\n",
              "    </tr>\n",
              "    <tr>\n",
              "      <th id=\"T_4c23a_level0_row9\" class=\"row_heading level0 row9\" >9</th>\n",
              "      <td id=\"T_4c23a_row9_col0\" class=\"data row9 col0\" >-1.096939</td>\n",
              "      <td id=\"T_4c23a_row9_col1\" class=\"data row9 col1\" >-1.290068</td>\n",
              "      <td id=\"T_4c23a_row9_col2\" class=\"data row9 col2\" >0.253679</td>\n",
              "      <td id=\"T_4c23a_row9_col3\" class=\"data row9 col3\" >0.826666</td>\n",
              "    </tr>\n",
              "  </tbody>\n",
              "</table>\n"
            ]
          },
          "metadata": {},
          "execution_count": 5
        }
      ]
    },
    {
      "cell_type": "markdown",
      "source": [
        "#**13.Write a Pandas program to detect missing values of a given DataFrame. Display True or False.**"
      ],
      "metadata": {
        "id": "rZuGgW13_ZSU"
      }
    },
    {
      "cell_type": "code",
      "source": [
        "import pandas as pd\n",
        "import numpy as np\n",
        "data = {\n",
        "'ord_no':[70001,np.nan,70002,70004,np.nan,70005,np.nan,70010,70003,70012,np.nan,70013],\n",
        "'purch_amt':[150.5,270.65,65.26,110.5,948.5,2400.6,5760,1983.43,2480.4,250.45, 75.29,3045.6],\n",
        "'ord_date': ['2012-10-05','2012-09-10',np.nan,'2012-08-17','2012-09-10','2012-07-27','2012-09-10','2012-10-10','2012-10-10','2012-06-27','2012-08-17','2012-04-25'],\n",
        "'customer_id':[3002,3001,3001,3003,3002,3001,3001,3004,3003,3002,3001,3001],\n",
        "'salesman_id':[5002,5003,5001,np.nan,5002,5001,5001,np.nan,5003,5002,5003,np.nan]}\n",
        "df =pd.DataFrame(data)\n",
        "missing_values = df.isna()\n",
        "print(missing_values)"
      ],
      "metadata": {
        "id": "aPF54FJn9HxK",
        "colab": {
          "base_uri": "https://localhost:8080/"
        },
        "outputId": "7d474790-2314-423e-c4a3-5888630fc628"
      },
      "execution_count": 6,
      "outputs": [
        {
          "output_type": "stream",
          "name": "stdout",
          "text": [
            "    ord_no  purch_amt  ord_date  customer_id  salesman_id\n",
            "0    False      False     False        False        False\n",
            "1     True      False     False        False        False\n",
            "2    False      False      True        False        False\n",
            "3    False      False     False        False         True\n",
            "4     True      False     False        False        False\n",
            "5    False      False     False        False        False\n",
            "6     True      False     False        False        False\n",
            "7    False      False     False        False         True\n",
            "8    False      False     False        False        False\n",
            "9    False      False     False        False        False\n",
            "10    True      False     False        False        False\n",
            "11   False      False     False        False         True\n"
          ]
        }
      ]
    },
    {
      "cell_type": "markdown",
      "source": [
        "#**14. Write a Pandas program to find and replace the missing values in a given DataFrame which do not have any valuable information.**"
      ],
      "metadata": {
        "id": "9rf8ay8u_eA_"
      }
    },
    {
      "cell_type": "code",
      "source": [
        "import pandas as pd\n",
        "data=pd.read_csv('/content/drive/MyDrive/Data-sets-qqpp/customer_id.csv')\n",
        "missing_values=data.fillna(0)\n",
        "print(missing_values)"
      ],
      "metadata": {
        "id": "-miU02C49Hzm",
        "colab": {
          "base_uri": "https://localhost:8080/"
        },
        "outputId": "e4813891-5529-4694-b739-17c229a0ad7a"
      },
      "execution_count": 7,
      "outputs": [
        {
          "output_type": "stream",
          "name": "stdout",
          "text": [
            "     ord_no  purch_amt    ord_date  customer_id  salesman_id\n",
            "0   70001.0     150.50  2012-10-05         3002       5002.0\n",
            "1       0.0     270.65  2012-09-10         3001       5003.0\n",
            "2   70002.0      65.26           0         3001       5001.0\n",
            "3   70004.0     110.50  2012-08-17         3003          0.0\n",
            "4       0.0     948.50  2012-09-10         3002       5002.0\n",
            "5   70005.0    2400.60  2012-07-27         3001       5001.0\n",
            "6       0.0    5760.00  2012-09-10         3001       5001.0\n",
            "7   70010.0    1983.43  2012-10-10         3004          0.0\n",
            "8   70003.0    2480.40  2012-10-10         3003       5003.0\n",
            "9   70012.0     250.45  2012-06-27         3002       5002.0\n",
            "10      0.0      75.29  2012-08-17         3001       5003.0\n",
            "11  70013.0    3045.60  2012-04-25         3001          0.0\n"
          ]
        }
      ]
    },
    {
      "cell_type": "markdown",
      "source": [
        "#**15.Write a Pandas program to keep the rows with at least 2 NaN values in a given DataFrame.**"
      ],
      "metadata": {
        "id": "zaa_rOsh_ijf"
      }
    },
    {
      "cell_type": "code",
      "source": [
        "import pandas as pd\n",
        "df=pd.read_csv('/content/drive/MyDrive/Data-sets-qqpp/purchase_data.csv')\n",
        "nan_values = df.isna().sum(axis=1)\n",
        "df = df[nan_values >= 2]\n",
        "print(df)"
      ],
      "metadata": {
        "id": "hYoY1TJ59H2K",
        "colab": {
          "base_uri": "https://localhost:8080/"
        },
        "outputId": "d5e79084-4866-44d3-c20c-71aef0ea5571"
      },
      "execution_count": 8,
      "outputs": [
        {
          "output_type": "stream",
          "name": "stdout",
          "text": [
            "    ord_no  purch_amt ord_date  customer_id\n",
            "0      NaN        NaN      NaN          NaN\n",
            "3      NaN        NaN      NaN          NaN\n",
            "11     NaN        NaN      NaN          NaN\n"
          ]
        }
      ]
    },
    {
      "cell_type": "markdown",
      "source": [
        "#**16.Write a Pandas program to split the following dataframe into groups based on school code. Also check the type of GroupBy object.**"
      ],
      "metadata": {
        "id": "FTWuk3IR_mif"
      }
    },
    {
      "cell_type": "code",
      "source": [
        "import pandas as pd\n",
        "data=pd.read_csv('/content/drive/MyDrive/Data-sets-qqpp/school_data.csv')\n",
        "grouped = data.groupby('school')\n",
        "print(grouped)\n",
        "print(type(grouped))"
      ],
      "metadata": {
        "id": "awYKjTEh9H5p",
        "colab": {
          "base_uri": "https://localhost:8080/"
        },
        "outputId": "8b1efac2-58ba-4090-ae83-a772aa6f0d7c"
      },
      "execution_count": 9,
      "outputs": [
        {
          "output_type": "stream",
          "name": "stdout",
          "text": [
            "<pandas.core.groupby.generic.DataFrameGroupBy object at 0x7eb902fa2620>\n",
            "<class 'pandas.core.groupby.generic.DataFrameGroupBy'>\n"
          ]
        }
      ]
    },
    {
      "cell_type": "code",
      "source": [],
      "metadata": {
        "id": "ILRr3PVI-b7O"
      },
      "execution_count": null,
      "outputs": []
    }
  ]
}